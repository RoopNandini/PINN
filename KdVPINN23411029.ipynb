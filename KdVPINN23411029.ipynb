{
 "cells": [
  {
   "cell_type": "markdown",
   "id": "1ba45a279aee7cd9",
   "metadata": {
    "collapsed": false
   },
   "source": [
    "# Data-Driven Solution for the Korteweg-de Vries Equation\n",
    "\n",
    "In this notebook, we aim to develop a data-driven approach to solve the Korteweg-de Vries (KdV) equation, which is a nonlinear partial differential equation commonly used to describe wave propagation in shallow water and other physical phenomena. Our approach utilizes a feedforward neural network to learn the relationship between spatial and temporal variables directly from the data.\n",
    "\n",
    "## Steps Involved:\n",
    "\n",
    "1. **Data Loading**:\n",
    "   We start by loading the dataset, which consists of time (`tt`), spatial (`x`), and solution (`uu`) values obtained from simulations of the KdV equation. The dataset provides a comprehensive representation of the system's behavior over time and space.\n",
    "\n",
    "2. **Data Preparation**:\n",
    "   - We create a mesh grid of spatial and temporal variables to form a set of input-output pairs for training the neural network.\n",
    "   - The input features consist of pairs of spatial and temporal values, while the output is the corresponding solution (`u(x,t)`).\n",
    "\n",
    "3. **Neural Network Definition**:\n",
    "   We define a simple feedforward neural network architecture with:\n",
    "   - An input layer that accepts two features (spatial and temporal variables).\n",
    "   - One or more hidden layers utilizing ReLU activation functions.\n",
    "   - An output layer that produces the predicted solution (`uu`).\n",
    "\n",
    "4. **Training the Model**:\n",
    "   - The model is trained on the full dataset without any train-test split. We use Mean Squared Error (MSE) as the loss function and Adam optimizer for weight updates.\n",
    "   - During training, the model learns to approximate the mapping from spatial and temporal inputs to the solution values by minimizing the loss.\n",
    "\n",
    "5. **Making Predictions**:\n",
    "   After training, we can use the model to make predictions at a fixed time point while varying the spatial variable. This allows us to observe how the solution evolves with respect to spatial changes at a specific moment in time.\n",
    "\n",
    "6. **Visualization**:\n",
    "   - We visualize the predicted solution at the specified fixed time along with actual data points from the dataset at a different time (e.g., \\( t = 0.5 \\)).\n",
    "   - The predictions are plotted as a line, and the known data points are marked for comparison, providing insight into the model's performance.\n",
    "\n",
    "By following this structured approach, we aim to leverage the power of neural networks to provide a robust approximation of the KdV equation's solution, facilitating further exploration and understanding of the underlying dynamics.\n"
   ]
  },
  {
   "cell_type": "code",
   "execution_count": 161,
   "id": "initial_id",
   "metadata": {
    "ExecuteTime": {
     "end_time": "2024-10-20T17:55:32.139795Z",
     "start_time": "2024-10-20T17:55:32.126830Z"
    },
    "collapsed": false
   },
   "outputs": [],
   "source": [
    "import torch\n",
    "import torch.nn as nn\n",
    "import numpy as np\n",
    "import scipy.io\n",
    "import matplotlib.pyplot as plt\n",
    "import torch.optim as optim\n",
    "from torch.autograd import grad"
   ]
  },
  {
   "cell_type": "code",
   "execution_count": 162,
   "id": "3120c59a6ae1a424",
   "metadata": {
    "ExecuteTime": {
     "end_time": "2024-10-20T17:55:32.140453Z",
     "start_time": "2024-10-20T17:55:32.130340Z"
    },
    "collapsed": false
   },
   "outputs": [],
   "source": [
    "def load_data(file_path):\n",
    "    data = scipy.io.loadmat(file_path)\n",
    "    t = data['tt'].flatten()  # Time array\n",
    "    x = data['x'].flatten()   # Spatial array\n",
    "    u = data['uu']            # Solution u(x,t)\n",
    "\n",
    "    return t, x, u"
   ]
  },
  {
   "cell_type": "code",
   "execution_count": 163,
   "id": "7d635a7bb36b978a",
   "metadata": {
    "ExecuteTime": {
     "end_time": "2024-10-20T17:55:32.232866Z",
     "start_time": "2024-10-20T17:55:32.224266Z"
    },
    "collapsed": false
   },
   "outputs": [],
   "source": [
    "class KdV_PINN(nn.Module):\n",
    "    def __init__(self, num_neurons=64):\n",
    "        super(KdV_PINN, self).__init__()\n",
    "        self.net = nn.Sequential(\n",
    "            nn.Linear(2, num_neurons),  # Input: (x, t)\n",
    "            nn.Tanh(),\n",
    "            nn.Linear(num_neurons, num_neurons),\n",
    "            nn.Tanh(),\n",
    "            nn.Linear(num_neurons, num_neurons),\n",
    "            nn.Tanh(),\n",
    "            nn.Linear(num_neurons, 1)   # Output: u(x,t)\n",
    "        )\n",
    "\n",
    "    def forward(self, x, t):\n",
    "        u = self.net(torch.cat([x, t], dim=1))\n",
    "        return u"
   ]
  },
  {
   "cell_type": "code",
   "execution_count": 164,
   "id": "23e6d805f0bda115",
   "metadata": {
    "ExecuteTime": {
     "end_time": "2024-10-20T17:55:34.623687Z",
     "start_time": "2024-10-20T17:55:34.617573Z"
    },
    "collapsed": false
   },
   "outputs": [],
   "source": [
    "def kdv_pde_residual(model, x, t, lambda1=1.0, lambda2=0.0025):\n",
    "    u = model(x, t)\n",
    "\n",
    "    # Compute time derivative u_t\n",
    "    u_t = grad(u, t, grad_outputs=torch.ones_like(u), create_graph=True)[0]\n",
    "    \n",
    "    # Compute spatial derivatives: u_x (first), u_xxx (third)\n",
    "    u_x = grad(u, x, grad_outputs=torch.ones_like(u), create_graph=True)[0]\n",
    "    u_xx = grad(u_x, x, grad_outputs=torch.ones_like(u_x), create_graph=True)[0]\n",
    "    u_xxx = grad(u_xx, x, grad_outputs=torch.ones_like(u_xx), create_graph=True)[0]\n",
    "\n",
    "    # KdV residual: u_t + lambda1 * u * u_x + lambda2 * u_xxx = 0\n",
    "    residual = u_t + lambda1 * u * u_x + lambda2 * u_xxx\n",
    "    return residual"
   ]
  },
  {
   "cell_type": "code",
   "execution_count": 165,
   "id": "38a5abf664ae6b86",
   "metadata": {
    "ExecuteTime": {
     "end_time": "2024-10-20T17:55:35.391002Z",
     "start_time": "2024-10-20T17:55:35.386636Z"
    },
    "collapsed": false
   },
   "outputs": [],
   "source": [
    "def initial_boundary_loss(model, X_init_bound, u_init_bound):\n",
    "    x = X_init_bound[:, 0:1]\n",
    "    t = X_init_bound[:, 1:2]\n",
    "    u_pred = model(x, t)\n",
    "    loss = nn.MSELoss()(u_pred, u_init_bound)\n",
    "    return loss"
   ]
  },
  {
   "cell_type": "code",
   "execution_count": 166,
   "id": "415b5fac2e08ebea",
   "metadata": {
    "ExecuteTime": {
     "end_time": "2024-10-20T17:55:36.040673Z",
     "start_time": "2024-10-20T17:55:36.035493Z"
    },
    "collapsed": false
   },
   "outputs": [],
   "source": [
    "def physics_loss(model, X_interior):\n",
    "    x = X_interior[:, 0:1]\n",
    "    t = X_interior[:, 1:2]\n",
    "    residual = kdv_pde_residual(model, x, t)\n",
    "    loss = torch.mean(residual**2)\n",
    "    return loss"
   ]
  },
  {
   "cell_type": "code",
   "execution_count": 167,
   "id": "d04db067d9041e99",
   "metadata": {
    "ExecuteTime": {
     "end_time": "2024-10-20T17:55:36.854781Z",
     "start_time": "2024-10-20T17:55:36.850551Z"
    },
    "collapsed": false
   },
   "outputs": [],
   "source": [
    "def closure(model, optimizer, X_init_bound, u_init_bound, X_interior):\n",
    "    optimizer.zero_grad()\n",
    "    \n",
    "    # Compute data loss (MSE on initial and boundary data)\n",
    "    data_loss = initial_boundary_loss(model, X_init_bound, u_init_bound)\n",
    "    \n",
    "    # Compute physics loss (residual of the KdV PDE)\n",
    "    pde_loss = physics_loss(model, X_interior)\n",
    "\n",
    "    # Total loss = data loss + physics loss\n",
    "    total_loss = data_loss + pde_loss\n",
    "    total_loss.backward()\n",
    "\n",
    "    return total_loss"
   ]
  },
  {
   "cell_type": "code",
   "execution_count": 168,
   "id": "6e838b7172e623b7",
   "metadata": {
    "ExecuteTime": {
     "end_time": "2024-10-20T17:55:38.229969Z",
     "start_time": "2024-10-20T17:55:38.223936Z"
    },
    "collapsed": false
   },
   "outputs": [],
   "source": [
    "# Training function with LBFGS optimizer, learning rate, and print statements every 10 iterations\n",
    "def train_pinn_with_lbfgs(model, X_init_bound, u_init_bound, X_interior, max_iter, lr=1.0):\n",
    "    optimizer = torch.optim.LBFGS(model.parameters(), lr=lr, max_iter=max_iter, max_eval=50000,\n",
    "                                  history_size=50, tolerance_grad=1e-03, tolerance_change=1e-09,\n",
    "                                  line_search_fn=\"strong_wolfe\")\n",
    "\n",
    "    iteration = [-1]  # To keep track of iterations\n",
    "\n",
    "    def closure_fn():\n",
    "        loss = closure(model, optimizer, X_init_bound, u_init_bound, X_interior)\n",
    "        iteration[0] += 1\n",
    "        \n",
    "        # Print every 10 iterations\n",
    "        if iteration[0] % 10 == 0:\n",
    "            print(f'Iteration: {iteration[0]}, Loss: {loss.item():.6f}')\n",
    "        \n",
    "        return loss\n",
    "\n",
    "    # Start the training\n",
    "    optimizer.step(closure_fn)\n"
   ]
  },
  {
   "cell_type": "code",
   "execution_count": 169,
   "id": "f2546092bced9e5a",
   "metadata": {
    "ExecuteTime": {
     "end_time": "2024-10-20T17:55:39.696673Z",
     "start_time": "2024-10-20T17:55:39.614250Z"
    },
    "collapsed": false
   },
   "outputs": [],
   "source": [
    "t, x, u = load_data(\"/Users/yogra/Downloads/kdV.mat\")"
   ]
  },
  {
   "cell_type": "code",
   "execution_count": 170,
   "id": "cbf69235baf2f8fd",
   "metadata": {
    "ExecuteTime": {
     "end_time": "2024-10-20T17:55:40.741903Z",
     "start_time": "2024-10-20T17:55:40.723172Z"
    },
    "collapsed": false
   },
   "outputs": [],
   "source": [
    "# Create a meshgrid for the data (spatial and time points)\n",
    "X, T = np.meshgrid(x, t)\n",
    "X_all = np.hstack((X.flatten()[:, None], T.flatten()[:, None]))  # [x, t] pairs\n",
    "u_all = u.T.flatten()[:, None]  # Flatten the u data\n",
    "\n",
    "# Split into initial, boundary, and interior points\n",
    "X_init = X_all[X_all[:, 1] == t[0]]  # Initial condition: t = 0\n",
    "u_init = u_all[X_all[:, 1] == t[0]]\n",
    "\n",
    "# Boundary conditions: x = x_min and x = x_max\n",
    "X_bound_left = X_all[X_all[:, 0] == x[0]]\n",
    "u_bound_left = u_all[X_all[:, 0] == x[0]]\n",
    "\n",
    "X_bound_right = X_all[X_all[:, 0] == x[-1]]\n",
    "u_bound_right = u_all[X_all[:, 0] == x[-1]]\n",
    "\n",
    "# Combine initial and boundary conditions\n",
    "X_init_bound = np.vstack([X_init, X_bound_left, X_bound_right])\n",
    "u_init_bound = np.vstack([u_init, u_bound_left, u_bound_right])\n",
    "\n",
    "# Interior points for physics loss\n",
    "X_interior = X_all[(X_all[:, 1] != t[0]) & (X_all[:, 0] != x[0]) & (X_all[:, 0] != x[-1])]\n",
    "\n",
    "# Convert data to PyTorch tensors\n",
    "X_init_bound = torch.tensor(X_init_bound, dtype=torch.float32, requires_grad=True)\n",
    "u_init_bound = torch.tensor(u_init_bound, dtype=torch.float32)\n",
    "X_interior = torch.tensor(X_interior, dtype=torch.float32, requires_grad=True)"
   ]
  },
  {
   "cell_type": "code",
   "execution_count": 171,
   "id": "2e36861632d0522a",
   "metadata": {
    "ExecuteTime": {
     "end_time": "2024-10-20T18:01:34.886015Z",
     "start_time": "2024-10-20T17:55:43.768191Z"
    },
    "collapsed": false
   },
   "outputs": [
    {
     "name": "stdout",
     "output_type": "stream",
     "text": [
      "Iteration: 0, Loss: 0.471884\n",
      "Iteration: 10, Loss: 0.425888\n",
      "Iteration: 20, Loss: 0.404214\n",
      "Iteration: 30, Loss: 0.395962\n",
      "Iteration: 40, Loss: 0.388704\n",
      "Iteration: 50, Loss: 0.376579\n",
      "Iteration: 60, Loss: 0.253569\n",
      "Iteration: 70, Loss: 0.202210\n",
      "Iteration: 80, Loss: 0.180311\n",
      "Iteration: 90, Loss: 0.177077\n",
      "Iteration: 100, Loss: 0.176452\n",
      "Iteration: 110, Loss: 0.173124\n",
      "Iteration: 120, Loss: 0.172529\n",
      "Iteration: 130, Loss: 0.169650\n",
      "Iteration: 140, Loss: 0.156245\n",
      "Iteration: 150, Loss: 0.143688\n",
      "Iteration: 160, Loss: 0.127970\n",
      "Iteration: 170, Loss: 0.125700\n",
      "Iteration: 180, Loss: 0.123281\n",
      "Iteration: 190, Loss: 0.119483\n",
      "Iteration: 200, Loss: 0.117442\n",
      "Iteration: 210, Loss: 0.112508\n",
      "Iteration: 220, Loss: 0.106852\n",
      "Iteration: 230, Loss: 0.103575\n",
      "Iteration: 240, Loss: 0.102940\n",
      "Iteration: 250, Loss: 0.100591\n"
     ]
    },
    {
     "ename": "KeyboardInterrupt",
     "evalue": "",
     "output_type": "error",
     "traceback": [
      "\u001b[0;31m---------------------------------------------------------------------------\u001b[0m",
      "\u001b[0;31mKeyboardInterrupt\u001b[0m                         Traceback (most recent call last)",
      "Cell \u001b[0;32mIn[171], line 2\u001b[0m\n\u001b[1;32m      1\u001b[0m pinn_model \u001b[38;5;241m=\u001b[39m KdV_PINN(num_neurons\u001b[38;5;241m=\u001b[39m\u001b[38;5;241m64\u001b[39m)\n\u001b[0;32m----> 2\u001b[0m train_pinn_with_lbfgs(pinn_model, X_init_bound, u_init_bound, X_interior, max_iter\u001b[38;5;241m=\u001b[39m\u001b[38;5;241m240\u001b[39m, lr\u001b[38;5;241m=\u001b[39m\u001b[38;5;241m2\u001b[39m\u001b[38;5;241m*\u001b[39m\u001b[38;5;28mpow\u001b[39m(\u001b[38;5;241m10\u001b[39m,\u001b[38;5;241m-\u001b[39m\u001b[38;5;241m3\u001b[39m))\n",
      "Cell \u001b[0;32mIn[168], line 20\u001b[0m, in \u001b[0;36mtrain_pinn_with_lbfgs\u001b[0;34m(model, X_init_bound, u_init_bound, X_interior, max_iter, lr)\u001b[0m\n\u001b[1;32m     17\u001b[0m     \u001b[38;5;28;01mreturn\u001b[39;00m loss\n\u001b[1;32m     19\u001b[0m \u001b[38;5;66;03m# Start the training\u001b[39;00m\n\u001b[0;32m---> 20\u001b[0m optimizer\u001b[38;5;241m.\u001b[39mstep(closure_fn)\n",
      "File \u001b[0;32m~/miniconda3/envs/deeplearning/lib/python3.12/site-packages/torch/optim/optimizer.py:484\u001b[0m, in \u001b[0;36mOptimizer.profile_hook_step.<locals>.wrapper\u001b[0;34m(*args, **kwargs)\u001b[0m\n\u001b[1;32m    479\u001b[0m         \u001b[38;5;28;01melse\u001b[39;00m:\n\u001b[1;32m    480\u001b[0m             \u001b[38;5;28;01mraise\u001b[39;00m \u001b[38;5;167;01mRuntimeError\u001b[39;00m(\n\u001b[1;32m    481\u001b[0m                 \u001b[38;5;124mf\u001b[39m\u001b[38;5;124m\"\u001b[39m\u001b[38;5;132;01m{\u001b[39;00mfunc\u001b[38;5;132;01m}\u001b[39;00m\u001b[38;5;124m must return None or a tuple of (new_args, new_kwargs), but got \u001b[39m\u001b[38;5;132;01m{\u001b[39;00mresult\u001b[38;5;132;01m}\u001b[39;00m\u001b[38;5;124m.\u001b[39m\u001b[38;5;124m\"\u001b[39m\n\u001b[1;32m    482\u001b[0m             )\n\u001b[0;32m--> 484\u001b[0m out \u001b[38;5;241m=\u001b[39m func(\u001b[38;5;241m*\u001b[39margs, \u001b[38;5;241m*\u001b[39m\u001b[38;5;241m*\u001b[39mkwargs)\n\u001b[1;32m    485\u001b[0m \u001b[38;5;28mself\u001b[39m\u001b[38;5;241m.\u001b[39m_optimizer_step_code()\n\u001b[1;32m    487\u001b[0m \u001b[38;5;66;03m# call optimizer step post hooks\u001b[39;00m\n",
      "File \u001b[0;32m~/miniconda3/envs/deeplearning/lib/python3.12/site-packages/torch/utils/_contextlib.py:116\u001b[0m, in \u001b[0;36mcontext_decorator.<locals>.decorate_context\u001b[0;34m(*args, **kwargs)\u001b[0m\n\u001b[1;32m    113\u001b[0m \u001b[38;5;129m@functools\u001b[39m\u001b[38;5;241m.\u001b[39mwraps(func)\n\u001b[1;32m    114\u001b[0m \u001b[38;5;28;01mdef\u001b[39;00m \u001b[38;5;21mdecorate_context\u001b[39m(\u001b[38;5;241m*\u001b[39margs, \u001b[38;5;241m*\u001b[39m\u001b[38;5;241m*\u001b[39mkwargs):\n\u001b[1;32m    115\u001b[0m     \u001b[38;5;28;01mwith\u001b[39;00m ctx_factory():\n\u001b[0;32m--> 116\u001b[0m         \u001b[38;5;28;01mreturn\u001b[39;00m func(\u001b[38;5;241m*\u001b[39margs, \u001b[38;5;241m*\u001b[39m\u001b[38;5;241m*\u001b[39mkwargs)\n",
      "File \u001b[0;32m~/miniconda3/envs/deeplearning/lib/python3.12/site-packages/torch/optim/lbfgs.py:437\u001b[0m, in \u001b[0;36mLBFGS.step\u001b[0;34m(self, closure)\u001b[0m\n\u001b[1;32m    434\u001b[0m     \u001b[38;5;28;01mdef\u001b[39;00m \u001b[38;5;21mobj_func\u001b[39m(x, t, d):\n\u001b[1;32m    435\u001b[0m         \u001b[38;5;28;01mreturn\u001b[39;00m \u001b[38;5;28mself\u001b[39m\u001b[38;5;241m.\u001b[39m_directional_evaluate(closure, x, t, d)\n\u001b[0;32m--> 437\u001b[0m     loss, flat_grad, t, ls_func_evals \u001b[38;5;241m=\u001b[39m _strong_wolfe(\n\u001b[1;32m    438\u001b[0m         obj_func, x_init, t, d, loss, flat_grad, gtd\n\u001b[1;32m    439\u001b[0m     )\n\u001b[1;32m    440\u001b[0m \u001b[38;5;28mself\u001b[39m\u001b[38;5;241m.\u001b[39m_add_grad(t, d)\n\u001b[1;32m    441\u001b[0m opt_cond \u001b[38;5;241m=\u001b[39m flat_grad\u001b[38;5;241m.\u001b[39mabs()\u001b[38;5;241m.\u001b[39mmax() \u001b[38;5;241m<\u001b[39m\u001b[38;5;241m=\u001b[39m tolerance_grad\n",
      "File \u001b[0;32m~/miniconda3/envs/deeplearning/lib/python3.12/site-packages/torch/optim/lbfgs.py:45\u001b[0m, in \u001b[0;36m_strong_wolfe\u001b[0;34m(obj_func, x, t, d, f, g, gtd, c1, c2, tolerance_change, max_ls)\u001b[0m\n\u001b[1;32m     43\u001b[0m g \u001b[38;5;241m=\u001b[39m g\u001b[38;5;241m.\u001b[39mclone(memory_format\u001b[38;5;241m=\u001b[39mtorch\u001b[38;5;241m.\u001b[39mcontiguous_format)\n\u001b[1;32m     44\u001b[0m \u001b[38;5;66;03m# evaluate objective and gradient using initial step\u001b[39;00m\n\u001b[0;32m---> 45\u001b[0m f_new, g_new \u001b[38;5;241m=\u001b[39m obj_func(x, t, d)\n\u001b[1;32m     46\u001b[0m ls_func_evals \u001b[38;5;241m=\u001b[39m \u001b[38;5;241m1\u001b[39m\n\u001b[1;32m     47\u001b[0m gtd_new \u001b[38;5;241m=\u001b[39m g_new\u001b[38;5;241m.\u001b[39mdot(d)\n",
      "File \u001b[0;32m~/miniconda3/envs/deeplearning/lib/python3.12/site-packages/torch/optim/lbfgs.py:435\u001b[0m, in \u001b[0;36mLBFGS.step.<locals>.obj_func\u001b[0;34m(x, t, d)\u001b[0m\n\u001b[1;32m    434\u001b[0m \u001b[38;5;28;01mdef\u001b[39;00m \u001b[38;5;21mobj_func\u001b[39m(x, t, d):\n\u001b[0;32m--> 435\u001b[0m     \u001b[38;5;28;01mreturn\u001b[39;00m \u001b[38;5;28mself\u001b[39m\u001b[38;5;241m.\u001b[39m_directional_evaluate(closure, x, t, d)\n",
      "File \u001b[0;32m~/miniconda3/envs/deeplearning/lib/python3.12/site-packages/torch/optim/lbfgs.py:289\u001b[0m, in \u001b[0;36mLBFGS._directional_evaluate\u001b[0;34m(self, closure, x, t, d)\u001b[0m\n\u001b[1;32m    287\u001b[0m \u001b[38;5;28;01mdef\u001b[39;00m \u001b[38;5;21m_directional_evaluate\u001b[39m(\u001b[38;5;28mself\u001b[39m, closure, x, t, d):\n\u001b[1;32m    288\u001b[0m     \u001b[38;5;28mself\u001b[39m\u001b[38;5;241m.\u001b[39m_add_grad(t, d)\n\u001b[0;32m--> 289\u001b[0m     loss \u001b[38;5;241m=\u001b[39m \u001b[38;5;28mfloat\u001b[39m(closure())\n\u001b[1;32m    290\u001b[0m     flat_grad \u001b[38;5;241m=\u001b[39m \u001b[38;5;28mself\u001b[39m\u001b[38;5;241m.\u001b[39m_gather_flat_grad()\n\u001b[1;32m    291\u001b[0m     \u001b[38;5;28mself\u001b[39m\u001b[38;5;241m.\u001b[39m_set_param(x)\n",
      "File \u001b[0;32m~/miniconda3/envs/deeplearning/lib/python3.12/site-packages/torch/utils/_contextlib.py:116\u001b[0m, in \u001b[0;36mcontext_decorator.<locals>.decorate_context\u001b[0;34m(*args, **kwargs)\u001b[0m\n\u001b[1;32m    113\u001b[0m \u001b[38;5;129m@functools\u001b[39m\u001b[38;5;241m.\u001b[39mwraps(func)\n\u001b[1;32m    114\u001b[0m \u001b[38;5;28;01mdef\u001b[39;00m \u001b[38;5;21mdecorate_context\u001b[39m(\u001b[38;5;241m*\u001b[39margs, \u001b[38;5;241m*\u001b[39m\u001b[38;5;241m*\u001b[39mkwargs):\n\u001b[1;32m    115\u001b[0m     \u001b[38;5;28;01mwith\u001b[39;00m ctx_factory():\n\u001b[0;32m--> 116\u001b[0m         \u001b[38;5;28;01mreturn\u001b[39;00m func(\u001b[38;5;241m*\u001b[39margs, \u001b[38;5;241m*\u001b[39m\u001b[38;5;241m*\u001b[39mkwargs)\n",
      "Cell \u001b[0;32mIn[168], line 10\u001b[0m, in \u001b[0;36mtrain_pinn_with_lbfgs.<locals>.closure_fn\u001b[0;34m()\u001b[0m\n\u001b[1;32m      9\u001b[0m \u001b[38;5;28;01mdef\u001b[39;00m \u001b[38;5;21mclosure_fn\u001b[39m():\n\u001b[0;32m---> 10\u001b[0m     loss \u001b[38;5;241m=\u001b[39m closure(model, optimizer, X_init_bound, u_init_bound, X_interior)\n\u001b[1;32m     11\u001b[0m     iteration[\u001b[38;5;241m0\u001b[39m] \u001b[38;5;241m+\u001b[39m\u001b[38;5;241m=\u001b[39m \u001b[38;5;241m1\u001b[39m\n\u001b[1;32m     13\u001b[0m     \u001b[38;5;66;03m# Print every 10 iterations\u001b[39;00m\n",
      "Cell \u001b[0;32mIn[167], line 12\u001b[0m, in \u001b[0;36mclosure\u001b[0;34m(model, optimizer, X_init_bound, u_init_bound, X_interior)\u001b[0m\n\u001b[1;32m     10\u001b[0m \u001b[38;5;66;03m# Total loss = data loss + physics loss\u001b[39;00m\n\u001b[1;32m     11\u001b[0m total_loss \u001b[38;5;241m=\u001b[39m data_loss \u001b[38;5;241m+\u001b[39m pde_loss\n\u001b[0;32m---> 12\u001b[0m total_loss\u001b[38;5;241m.\u001b[39mbackward()\n\u001b[1;32m     14\u001b[0m \u001b[38;5;28;01mreturn\u001b[39;00m total_loss\n",
      "File \u001b[0;32m~/miniconda3/envs/deeplearning/lib/python3.12/site-packages/torch/_tensor.py:521\u001b[0m, in \u001b[0;36mTensor.backward\u001b[0;34m(self, gradient, retain_graph, create_graph, inputs)\u001b[0m\n\u001b[1;32m    511\u001b[0m \u001b[38;5;28;01mif\u001b[39;00m has_torch_function_unary(\u001b[38;5;28mself\u001b[39m):\n\u001b[1;32m    512\u001b[0m     \u001b[38;5;28;01mreturn\u001b[39;00m handle_torch_function(\n\u001b[1;32m    513\u001b[0m         Tensor\u001b[38;5;241m.\u001b[39mbackward,\n\u001b[1;32m    514\u001b[0m         (\u001b[38;5;28mself\u001b[39m,),\n\u001b[0;32m   (...)\u001b[0m\n\u001b[1;32m    519\u001b[0m         inputs\u001b[38;5;241m=\u001b[39minputs,\n\u001b[1;32m    520\u001b[0m     )\n\u001b[0;32m--> 521\u001b[0m torch\u001b[38;5;241m.\u001b[39mautograd\u001b[38;5;241m.\u001b[39mbackward(\n\u001b[1;32m    522\u001b[0m     \u001b[38;5;28mself\u001b[39m, gradient, retain_graph, create_graph, inputs\u001b[38;5;241m=\u001b[39minputs\n\u001b[1;32m    523\u001b[0m )\n",
      "File \u001b[0;32m~/miniconda3/envs/deeplearning/lib/python3.12/site-packages/torch/autograd/__init__.py:289\u001b[0m, in \u001b[0;36mbackward\u001b[0;34m(tensors, grad_tensors, retain_graph, create_graph, grad_variables, inputs)\u001b[0m\n\u001b[1;32m    284\u001b[0m     retain_graph \u001b[38;5;241m=\u001b[39m create_graph\n\u001b[1;32m    286\u001b[0m \u001b[38;5;66;03m# The reason we repeat the same comment below is that\u001b[39;00m\n\u001b[1;32m    287\u001b[0m \u001b[38;5;66;03m# some Python versions print out the first line of a multi-line function\u001b[39;00m\n\u001b[1;32m    288\u001b[0m \u001b[38;5;66;03m# calls in the traceback and some print out the last line\u001b[39;00m\n\u001b[0;32m--> 289\u001b[0m _engine_run_backward(\n\u001b[1;32m    290\u001b[0m     tensors,\n\u001b[1;32m    291\u001b[0m     grad_tensors_,\n\u001b[1;32m    292\u001b[0m     retain_graph,\n\u001b[1;32m    293\u001b[0m     create_graph,\n\u001b[1;32m    294\u001b[0m     inputs,\n\u001b[1;32m    295\u001b[0m     allow_unreachable\u001b[38;5;241m=\u001b[39m\u001b[38;5;28;01mTrue\u001b[39;00m,\n\u001b[1;32m    296\u001b[0m     accumulate_grad\u001b[38;5;241m=\u001b[39m\u001b[38;5;28;01mTrue\u001b[39;00m,\n\u001b[1;32m    297\u001b[0m )\n",
      "File \u001b[0;32m~/miniconda3/envs/deeplearning/lib/python3.12/site-packages/torch/autograd/graph.py:769\u001b[0m, in \u001b[0;36m_engine_run_backward\u001b[0;34m(t_outputs, *args, **kwargs)\u001b[0m\n\u001b[1;32m    767\u001b[0m     unregister_hooks \u001b[38;5;241m=\u001b[39m _register_logging_hooks_on_whole_graph(t_outputs)\n\u001b[1;32m    768\u001b[0m \u001b[38;5;28;01mtry\u001b[39;00m:\n\u001b[0;32m--> 769\u001b[0m     \u001b[38;5;28;01mreturn\u001b[39;00m Variable\u001b[38;5;241m.\u001b[39m_execution_engine\u001b[38;5;241m.\u001b[39mrun_backward(  \u001b[38;5;66;03m# Calls into the C++ engine to run the backward pass\u001b[39;00m\n\u001b[1;32m    770\u001b[0m         t_outputs, \u001b[38;5;241m*\u001b[39margs, \u001b[38;5;241m*\u001b[39m\u001b[38;5;241m*\u001b[39mkwargs\n\u001b[1;32m    771\u001b[0m     )  \u001b[38;5;66;03m# Calls into the C++ engine to run the backward pass\u001b[39;00m\n\u001b[1;32m    772\u001b[0m \u001b[38;5;28;01mfinally\u001b[39;00m:\n\u001b[1;32m    773\u001b[0m     \u001b[38;5;28;01mif\u001b[39;00m attach_logging_hooks:\n",
      "\u001b[0;31mKeyboardInterrupt\u001b[0m: "
     ]
    }
   ],
   "source": [
    "pinn_model = KdV_PINN(num_neurons=64)\n",
    "train_pinn_with_lbfgs(pinn_model, X_init_bound, u_init_bound, X_interior, max_iter=240, lr=2*pow(10,-3))"
   ]
  },
  {
   "cell_type": "code",
   "execution_count": 172,
   "id": "7eca129c52b0c3be",
   "metadata": {
    "ExecuteTime": {
     "end_time": "2024-10-20T18:01:40.045188Z",
     "start_time": "2024-10-20T18:01:40.040702Z"
    },
    "collapsed": false
   },
   "outputs": [],
   "source": [
    "def plot_solution(model, t_fixed, X, u, interval=10):\n",
    "    \"\"\"\n",
    "    Plots the predicted solution u(x,t_fixed) vs x, marking the given data points\n",
    "    at intervals with red crosses.\n",
    "    \n",
    "    Args:\n",
    "    - model: Trained PINN model.\n",
    "    - t_fixed: The fixed time t at which to plot the solution (e.g., t=0.5).\n",
    "    - X: The original spatial points (x) and time (t) data.\n",
    "    - u: The original solution data u(x,t) for comparison.\n",
    "    - interval: Interval for marking data points with red crosses.\n",
    "    \"\"\"\n",
    "    # Extract data points from the original dataset at t = t_fixed\n",
    "    X_fixed_t = X[X[:, 1] == t_fixed]  # Find all (x, t_fixed) pairs\n",
    "    u_fixed_t = u[X[:, 1] == t_fixed]  # Extract corresponding u(x, t_fixed)\n",
    "    \n",
    "    # Reduce the data points for plotting (use every 'interval'-th point)\n",
    "    X_fixed_t_reduced = X_fixed_t[::interval]\n",
    "    u_fixed_t_reduced = u_fixed_t[::interval]\n",
    "\n",
    "    # Prepare for prediction (generate points for smooth plotting)\n",
    "    x_fixed = torch.tensor(X_fixed_t[:, 0:1], dtype=torch.float32)  # Spatial domain x\n",
    "    t_fixed_tensor = torch.full_like(x_fixed, t_fixed)  # Fixed time t\n",
    "\n",
    "    # Predict u(x,t_fixed) using the model\n",
    "    u_pred = model(x_fixed, t_fixed_tensor).detach().numpy()\n",
    "\n",
    "    # Plot the predicted u(x) as a blue line\n",
    "    plt.plot(x_fixed, u_pred, 'b-', label='Predicted u(x)')\n",
    "\n",
    "    # Mark the original data points (at intervals) with red crosses\n",
    "    plt.scatter(X_fixed_t_reduced[:, 0], u_fixed_t_reduced, color='red', marker='x', label='Data points (t=0.5)')\n",
    "\n",
    "    # Add labels and legend\n",
    "    plt.xlabel('x')\n",
    "    plt.ylabel('u(x,t)')\n",
    "    plt.title(f'Predicted vs Actual Data Points at t={t_fixed}')\n",
    "    plt.legend()\n",
    "    plt.grid(True)\n",
    "    plt.show()\n"
   ]
  },
  {
   "cell_type": "code",
   "execution_count": 173,
   "id": "2fec7f816ba9e7c3",
   "metadata": {
    "ExecuteTime": {
     "end_time": "2024-10-20T18:01:41.078392Z",
     "start_time": "2024-10-20T18:01:40.943038Z"
    },
    "collapsed": false
   },
   "outputs": [
    {
     "data": {
      "image/png": "[encoded data removed]",
      "text/plain": [
       "<Figure size 640x480 with 1 Axes>"
      ]
     },
     "metadata": {},
     "output_type": "display_data"
    }
   ],
   "source": [
    "# Assuming you have trained the model and have the original data loaded as X, u\n",
    "# Plot the solution at t=0.5 and mark data points at intervals of 10\n",
    "plot_solution(pinn_model, t_fixed=0.2, X=X_all, u=u_all, interval=10)\n"
   ]
  },
  {
   "cell_type": "markdown",
   "id": "f5bcc1b19dab1d55",
   "metadata": {
    "collapsed": false
   },
   "source": [
    "## Comparison: Traditional NN vs PINN\n",
    "\n",
    "As seen in the plot from the previous notebook using a traditional Neural Network (NN), the predictions struggled to accurately match the true data, especially in regions with fewer data points. However, in the current Physics-Informed Neural Network (PINN) approach, the prediction is much better and more consistent with the true solution, showing faster convergence and improved accuracy by incorporating the underlying physics.\n",
    "\n"
   ]
  }
 ],
 "metadata": {
  "kernelspec": {
   "display_name": "Python 3",
   "language": "python",
   "name": "python3"
  },
  "language_info": {
   "codemirror_mode": {
    "name": "ipython",
    "version": 2
   },
   "file_extension": ".py",
   "mimetype": "text/x-python",
   "name": "python",
   "nbconvert_exporter": "python",
   "pygments_lexer": "ipython2",
   "version": "2.7.6"
  }
 },
 "nbformat": 4,
 "nbformat_minor": 5
}
